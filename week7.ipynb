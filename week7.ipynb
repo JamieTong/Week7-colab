{
  "cells": [
    {
      "cell_type": "markdown",
      "metadata": {
        "id": "f45h6GcvztCm"
      },
      "source": [
        "# Lecture 7\n",
        "\n",
        "This week, we'll have a running Colab that we can all try understanding concepts with."
      ]
    },
    {
      "cell_type": "code",
      "execution_count": null,
      "metadata": {
        "colab": {
          "base_uri": "https://localhost:8080/"
        },
        "id": "ZWQiPSm3zix-",
        "outputId": "f3e53300-9a38-44f1-8c66-38e90bb580fb"
      },
      "outputs": [
        {
          "name": "stdout",
          "output_type": "stream",
          "text": [
            "--2023-02-23 03:01:06--  https://course.ccs.neu.edu/cs6220/lecture-labs/lecture-6/bubblegum_training.txt\n",
            "Resolving course.ccs.neu.edu (course.ccs.neu.edu)... 129.10.117.35\n",
            "Connecting to course.ccs.neu.edu (course.ccs.neu.edu)|129.10.117.35|:443... connected.\n",
            "HTTP request sent, awaiting response... 200 OK\n",
            "Length: 1027392 (1003K) [text/plain]\n",
            "Saving to: ‘bubblegum_training.txt.1’\n",
            "\n",
            "bubblegum_training. 100%[===================>]   1003K  2.31MB/s    in 0.4s    \n",
            "\n",
            "2023-02-23 03:01:07 (2.31 MB/s) - ‘bubblegum_training.txt.1’ saved [1027392/1027392]\n",
            "\n",
            "--2023-02-23 03:01:07--  https://course.ccs.neu.edu/cs6220/lecture-labs/lecture-6/bubblegum_QC.txt\n",
            "Resolving course.ccs.neu.edu (course.ccs.neu.edu)... 129.10.117.35\n",
            "Connecting to course.ccs.neu.edu (course.ccs.neu.edu)|129.10.117.35|:443... connected.\n",
            "HTTP request sent, awaiting response... 200 OK\n",
            "Length: 1028 (1.0K) [text/plain]\n",
            "Saving to: ‘bubblegum_QC.txt.1’\n",
            "\n",
            "bubblegum_QC.txt.1  100%[===================>]   1.00K  --.-KB/s    in 0s      \n",
            "\n",
            "2023-02-23 03:01:07 (86.2 MB/s) - ‘bubblegum_QC.txt.1’ saved [1028/1028]\n",
            "\n",
            "--2023-02-23 03:01:08--  https://course.ccs.neu.edu/cs6220/lecture-labs/lecture-6/muvec.txt\n",
            "Resolving course.ccs.neu.edu (course.ccs.neu.edu)... 129.10.117.35\n",
            "Connecting to course.ccs.neu.edu (course.ccs.neu.edu)|129.10.117.35|:443... connected.\n",
            "HTTP request sent, awaiting response... 200 OK\n",
            "Length: 250 [text/plain]\n",
            "Saving to: ‘muvec.txt.1’\n",
            "\n",
            "muvec.txt.1         100%[===================>]     250  --.-KB/s    in 0s      \n",
            "\n",
            "2023-02-23 03:01:08 (11.6 MB/s) - ‘muvec.txt.1’ saved [250/250]\n",
            "\n"
          ]
        }
      ],
      "source": [
        "import numpy as np\n",
        "import matplotlib.pylab as plt\n",
        "%matplotlib inline\n",
        "\n",
        "!wget https://course.ccs.neu.edu/cs6220/lecture-labs/lecture-6/bubblegum_training.txt\n",
        "!wget https://course.ccs.neu.edu/cs6220/lecture-labs/lecture-6/bubblegum_QC.txt\n",
        "!wget https://course.ccs.neu.edu/cs6220/lecture-labs/lecture-6/muvec.txt\n"
      ]
    },
    {
      "cell_type": "markdown",
      "metadata": {
        "id": "6UVHagzQiTMI"
      },
      "source": [
        "# The Data\n",
        "\n",
        "This is data from a factory that manufactures peach bubblegum en masse, DripperLabs. There are ten features that are measured for each sample off the factory floor; these correspond to:\n",
        "\n",
        "* Resin - main chewable part\n",
        "* Wax - gum softener\n",
        "* Elastomer - flexibility\n",
        "* Sweeteners - delays the release of flavour. \n",
        "* Glycerine - maintains moistness. \n",
        "* Softener - soften the gum\n",
        "* Plasticiser -  increases flexibility \n",
        "* Flavours - taste and sensory appeal\n",
        "* Colours - visual appeal. \n",
        "* Polyol Coating - maintain the quality \n",
        "\n",
        "If you'd like to read more, feel free to review [GooRoo's blog post](https://www.gooroo.com/blog/chewing-gum/)\n"
      ]
    },
    {
      "cell_type": "code",
      "execution_count": null,
      "metadata": {
        "id": "LZ63O4woiUZn"
      },
      "outputs": [],
      "source": [
        "train_data = np.loadtxt(\"bubblegum_training.txt\",delimiter=\",\")\n",
        "inference_data = np.loadtxt(\"bubblegum_QC.txt\", delimiter=\",\")\n",
        "\n",
        "# To sanity check, load in the known target values\n",
        "mean_data = np.loadtxt(\"muvec.txt\", delimiter=\",\")"
      ]
    },
    {
      "cell_type": "markdown",
      "metadata": {
        "id": "aPGfp8t-ilTy"
      },
      "source": [
        "# Calculate the parameters of your Gaussian Model\n",
        "\n",
        "Using the training data, determine the maximum likelihood of the mean and standard deviation for each dimension.\n",
        "\n",
        "Recall that these are:\n",
        "\n",
        "$$\\mu_i = \\sum_{n=1}^N \\frac{x^{(n)}_i}{N}$$\n",
        "\n",
        "and\n",
        "\n",
        "$$\\sigma_i^2 = \\sum_{n=1}^N \\frac{(x^{(n)}_i - \\mu_i) ^2}{N} $$"
      ]
    },
    {
      "cell_type": "code",
      "execution_count": null,
      "metadata": {
        "id": "Wtbk1fokip--"
      },
      "outputs": [],
      "source": [
        "# YOUR CODE HERE\n",
        "mu = train_data.mean(axis=0)\n",
        "sig = train_data.std(axis=0)"
      ]
    },
    {
      "cell_type": "markdown",
      "metadata": {
        "id": "OD_rblbOitr0"
      },
      "source": [
        "# Probability of a Sample\n",
        "\n",
        "Write a function that takes your parameters and calculates the probabiliy of this sample occurring with the Gaussian Model. If all goes well, you should have the following outliers:\n",
        "\n",
        "`[0, 0, 1, 1, 0, 0, 0, 1, 1, 0, 0, 0, 0, 0, 1]`\n",
        "\n",
        "You may wish to use the log likelihood (i.e., take the log of your PDF)."
      ]
    },
    {
      "cell_type": "code",
      "execution_count": null,
      "metadata": {
        "colab": {
          "base_uri": "https://localhost:8080/",
          "height": 294
        },
        "id": "WvBsTl2yiv7u",
        "outputId": "a9a9506d-b26b-42b8-ccf9-74f41b27b590"
      },
      "outputs": [
        {
          "data": {
            "text/plain": [
              "[<matplotlib.lines.Line2D at 0x7f9e5f8aed30>]"
            ]
          },
          "execution_count": 26,
          "metadata": {},
          "output_type": "execute_result"
        },
        {
          "data": {
            "image/png": "[encoded data removed]",
            "text/plain": [
              "<Figure size 432x288 with 1 Axes>"
            ]
          },
          "metadata": {
            "needs_background": "light"
          },
          "output_type": "display_data"
        }
      ],
      "source": [
        "# YOUR CODE HERE\n",
        "\n",
        "from scipy.stats import multivariate_normal\n",
        "model = multivariate_normal(mean = mu, cov = np.eye(10)*sig**2)\n",
        "\n",
        "plt.plot(model.pdf(inference_data))\n"
      ]
    }
  ],
  "metadata": {
    "colab": {
      "provenance": []
    },
    "kernelspec": {
      "display_name": "Python 3.11.1 64-bit",
      "language": "python",
      "name": "python3"
    },
    "language_info": {
      "name": "python",
      "version": "3.11.1"
    },
    "vscode": {
      "interpreter": {
        "hash": "aee8b7b246df8f9039afb4144a1f6fd8d2ca17a180786b69acc140d282b71a49"
      }
    }
  },
  "nbformat": 4,
  "nbformat_minor": 0
}
